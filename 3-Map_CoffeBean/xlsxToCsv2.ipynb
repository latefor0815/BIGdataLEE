{
 "cells": [
  {
   "metadata": {
    "ExecuteTime": {
     "end_time": "2024-08-12T01:20:01.453920Z",
     "start_time": "2024-08-12T01:19:57.572968Z"
    }
   },
   "cell_type": "code",
   "source": "!pip install openpyxl",
   "id": "e85b1f6cda0d9b14",
   "outputs": [
    {
     "name": "stdout",
     "output_type": "stream",
     "text": [
      "Collecting openpyxl\n",
      "  Obtaining dependency information for openpyxl from https://files.pythonhosted.org/packages/c0/da/977ded879c29cbd04de313843e76868e6e13408a94ed6b987245dc7c8506/openpyxl-3.1.5-py2.py3-none-any.whl.metadata\n",
      "  Downloading openpyxl-3.1.5-py2.py3-none-any.whl.metadata (2.5 kB)\n",
      "Collecting et-xmlfile (from openpyxl)\n",
      "  Obtaining dependency information for et-xmlfile from https://files.pythonhosted.org/packages/96/c2/3dd434b0108730014f1b96fd286040dc3bcb70066346f7e01ec2ac95865f/et_xmlfile-1.1.0-py3-none-any.whl.metadata\n",
      "  Downloading et_xmlfile-1.1.0-py3-none-any.whl.metadata (1.8 kB)\n",
      "Downloading openpyxl-3.1.5-py2.py3-none-any.whl (250 kB)\n",
      "   ---------------------------------------- 0.0/250.9 kB ? eta -:--:--\n",
      "   ---------------------------------------- 250.9/250.9 kB 5.1 MB/s eta 0:00:00\n",
      "Downloading et_xmlfile-1.1.0-py3-none-any.whl (4.7 kB)\n",
      "Installing collected packages: et-xmlfile, openpyxl\n",
      "Successfully installed et-xmlfile-1.1.0 openpyxl-3.1.5\n"
     ]
    },
    {
     "name": "stderr",
     "output_type": "stream",
     "text": [
      "\n",
      "[notice] A new release of pip is available: 23.2.1 -> 24.2\n",
      "[notice] To update, run: python.exe -m pip install --upgrade pip\n"
     ]
    }
   ],
   "execution_count": 1
  },
  {
   "metadata": {
    "ExecuteTime": {
     "end_time": "2024-08-12T00:35:06.429949Z",
     "start_time": "2024-08-12T00:35:06.202788Z"
    }
   },
   "cell_type": "code",
   "source": [
    "import pandas as pd\n",
    "# XLSX 파일 경로 설정\n",
    "xlsx_file = 'C:/Users/it/Documents/BigDataMLVisual501/3-Map_CoffeBean/전국공공의료기관현황2023년12월말기준_배포용.xlsx'\n",
    "\n",
    "# CSV 파일 경로 설정\n",
    "csv_file = 'C:/Users/it/Documents/BigDataMLVisual501/3-Map_CoffeBean/전국공공의료기관현황2023년12월말기준.csv'\n",
    "\n",
    "# 엑셀 파일 읽기\n",
    "df = pd.read_excel(xlsx_file)\n",
    "\n",
    "# CSV 파일로 저장하기\n",
    "df.to_csv(csv_file, index=False, encoding='utf-8')\n"
   ],
   "id": "8f3a6c2db533dfd4",
   "outputs": [],
   "execution_count": 3
  }
 ],
 "metadata": {
  "kernelspec": {
   "display_name": "Python 3",
   "language": "python",
   "name": "python3"
  },
  "language_info": {
   "codemirror_mode": {
    "name": "ipython",
    "version": 2
   },
   "file_extension": ".py",
   "mimetype": "text/x-python",
   "name": "python",
   "nbconvert_exporter": "python",
   "pygments_lexer": "ipython2",
   "version": "2.7.6"
  }
 },
 "nbformat": 4,
 "nbformat_minor": 5
}
